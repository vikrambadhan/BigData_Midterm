{
  "cells": [
    {
      "cell_type": "code",
      "execution_count": 1,
      "metadata": {
        "colab": {
          "base_uri": "https://localhost:8080/"
        },
        "id": "1ncwQ4ojz6xc",
        "outputId": "5cdbee6b-f2b6-42be-a016-bb160011c0aa"
      },
      "outputs": [
        {
          "name": "stdout",
          "output_type": "stream",
          "text": [
            "Looking in indexes: https://pypi.org/simple, https://us-python.pkg.dev/colab-wheels/public/simple/\n",
            "Collecting pyspark\n",
            "  Downloading pyspark-3.3.1.tar.gz (281.4 MB)\n",
            "\u001b[K     |████████████████████████████████| 281.4 MB 47 kB/s \n",
            "\u001b[?25hCollecting py4j==0.10.9.5\n",
            "  Downloading py4j-0.10.9.5-py2.py3-none-any.whl (199 kB)\n",
            "\u001b[K     |████████████████████████████████| 199 kB 53.5 MB/s \n",
            "\u001b[?25hBuilding wheels for collected packages: pyspark\n",
            "  Building wheel for pyspark (setup.py) ... \u001b[?25l\u001b[?25hdone\n",
            "  Created wheel for pyspark: filename=pyspark-3.3.1-py2.py3-none-any.whl size=281845513 sha256=841315f7cded11fd791a89e7951b8831a84915b2420b1d5113f71ec7fd75d329\n",
            "  Stored in directory: /root/.cache/pip/wheels/42/59/f5/79a5bf931714dcd201b26025347785f087370a10a3329a899c\n",
            "Successfully built pyspark\n",
            "Installing collected packages: py4j, pyspark\n",
            "Successfully installed py4j-0.10.9.5 pyspark-3.3.1\n"
          ]
        }
      ],
      "source": [
        "!pip3 install pyspark\n",
        "import pyspark"
      ]
    },
    {
      "cell_type": "code",
      "execution_count": 2,
      "metadata": {
        "id": "_YcTRPgQ0C0t"
      },
      "outputs": [],
      "source": [
        "spark = pyspark.sql.SparkSession.builder\\\n",
        "        .master('local[*]')\\\n",
        "        .appName('vikram_midterm_Q2')\\\n",
        "        .getOrCreate()"
      ]
    },
    {
      "cell_type": "code",
      "execution_count": 3,
      "metadata": {
        "colab": {
          "base_uri": "https://localhost:8080/",
          "height": 196
        },
        "id": "OQwiislg0dBF",
        "outputId": "a6fdd244-94fb-41cf-b828-3b4b051ab36d"
      },
      "outputs": [
        {
          "data": {
            "text/html": [
              "\n",
              "        <div>\n",
              "            <p><b>SparkContext</b></p>\n",
              "\n",
              "            <p><a href=\"http://575579a35a48:4040\">Spark UI</a></p>\n",
              "\n",
              "            <dl>\n",
              "              <dt>Version</dt>\n",
              "                <dd><code>v3.3.1</code></dd>\n",
              "              <dt>Master</dt>\n",
              "                <dd><code>local[*]</code></dd>\n",
              "              <dt>AppName</dt>\n",
              "                <dd><code>vikram_midterm_Q2</code></dd>\n",
              "            </dl>\n",
              "        </div>\n",
              "        "
            ],
            "text/plain": [
              "<SparkContext master=local[*] appName=vikram_midterm_Q2>"
            ]
          },
          "execution_count": 3,
          "metadata": {},
          "output_type": "execute_result"
        }
      ],
      "source": [
        "sc = spark.sparkContext\n",
        "sc.setLogLevel(\"ERROR\")\n",
        "sc"
      ]
    },
    {
      "cell_type": "markdown",
      "metadata": {
        "id": "07wzBLu017Uv"
      },
      "source": [
        "#Unigrams"
      ]
    },
    {
      "cell_type": "code",
      "execution_count": 37,
      "metadata": {
        "id": "KLjlnylv0hjR"
      },
      "outputs": [],
      "source": [
        "text = sc.textFile(\"romeo-juliet-pg1777.txt\")\n",
        "# note as text file"
      ]
    },
    {
      "cell_type": "code",
      "execution_count": 38,
      "metadata": {
        "id": "Aj8-1d0C1lz-"
      },
      "outputs": [],
      "source": [
        "import re\n",
        "def func(text):\n",
        "    text = text.lower()\n",
        "    text = re.sub(\"[^0-9a-zA-Z]\", \" \", text)\n",
        "    return text\n",
        "text1 = text.map(func)\n",
        "#function similar to assignment 1 \n",
        "# converted to lower and replaced all special characters"
      ]
    },
    {
      "cell_type": "code",
      "execution_count": 39,
      "metadata": {
        "id": "qiAPkZ4u1pC_"
      },
      "outputs": [],
      "source": [
        "text2 = text1.flatMap(lambda l: l.split(\" \"))\n",
        "# split on white spaces"
      ]
    },
    {
      "cell_type": "code",
      "execution_count": 40,
      "metadata": {
        "colab": {
          "base_uri": "https://localhost:8080/"
        },
        "id": "EoiR9ZIY1rtM",
        "outputId": "e682ce53-b1ce-4915-b2b7-95e3bfc50bff"
      },
      "outputs": [
        {
          "name": "stdout",
          "output_type": "stream",
          "text": [
            "('', 22916)\n",
            "('this', 258)\n",
            "('is', 389)\n",
            "('presented', 1)\n",
            "('project', 27)\n",
            "('gutenberg', 24)\n",
            "('in', 329)\n",
            "('cooperation', 1)\n",
            "('world', 32)\n",
            "('library', 16)\n"
          ]
        }
      ],
      "source": [
        "from operator import add\n",
        "count = text2.map(lambda w: (w, 1)).reduceByKey(add)\n",
        "for i in count.take(10): print(i)"
      ]
    },
    {
      "cell_type": "code",
      "execution_count": 41,
      "metadata": {
        "colab": {
          "base_uri": "https://localhost:8080/"
        },
        "id": "c4TOyUyb1ufm",
        "outputId": "9ce08f9c-5975-4fd6-eab3-90bca0fa621b"
      },
      "outputs": [
        {
          "name": "stdout",
          "output_type": "stream",
          "text": [
            "+-----------+-----+\n",
            "|       word|count|\n",
            "+-----------+-----+\n",
            "|           |22916|\n",
            "|       this|  258|\n",
            "|         is|  389|\n",
            "|  presented|    1|\n",
            "|    project|   27|\n",
            "|  gutenberg|   24|\n",
            "|         in|  329|\n",
            "|cooperation|    1|\n",
            "|      world|   32|\n",
            "|    library|   16|\n",
            "+-----------+-----+\n",
            "only showing top 10 rows\n",
            "\n"
          ]
        }
      ],
      "source": [
        "final = count.toDF(schema=['word', 'count']).coalesce(8)\n",
        "final.show(10)\n",
        "# total count is 22916"
      ]
    },
    {
      "cell_type": "code",
      "execution_count": 42,
      "metadata": {
        "colab": {
          "base_uri": "https://localhost:8080/"
        },
        "id": "wxFjhTUe1zSd",
        "outputId": "3ab9eec5-ca55-49f0-8b70-a06d08c4617e"
      },
      "outputs": [
        {
          "name": "stdout",
          "output_type": "stream",
          "text": [
            "+-----------+-------+\n",
            "|       word|divisor|\n",
            "+-----------+-------+\n",
            "|       this|    258|\n",
            "|         is|    389|\n",
            "|  presented|      1|\n",
            "|    project|     27|\n",
            "|  gutenberg|     24|\n",
            "|         in|    329|\n",
            "|cooperation|      1|\n",
            "|      world|     32|\n",
            "|    library|     16|\n",
            "|        inc|     11|\n",
            "+-----------+-------+\n",
            "only showing top 10 rows\n",
            "\n"
          ]
        }
      ],
      "source": [
        "final=final.filter(final.word!=\"\")\n",
        "final = final.withColumnRenamed('count', 'divisor')\n",
        "final.show(10)\n",
        "# final answer"
      ]
    },
    {
      "cell_type": "markdown",
      "metadata": {
        "id": "3R1a6uS12C9n"
      },
      "source": [
        "#Bigrams"
      ]
    },
    {
      "cell_type": "code",
      "execution_count": 30,
      "metadata": {
        "id": "4QN56Fw22EzV"
      },
      "outputs": [],
      "source": [
        "from pyspark.sql import functions as F\n",
        "from pyspark.sql.functions import regexp_replace, upper,lower, col\n",
        "sentences = sc.textFile(\"romeo-juliet-pg1777.txt\")\n",
        "mapper_bi = sentences.map(lambda s: s.split(\" \")).flatMap(lambda s: [((s[i], s[i+1]), 1) for i in range(0, len(s)-1)])\n",
        "#creating mapper to make bigrams\n",
        "bigrams = mapper_bi.reduceByKey(lambda x, y :x+y)\n",
        "#creating bigrams by reducing to the keys\n",
        "bigrams = bigrams.toDF()\n",
        "# Saving to dataframe"
      ]
    },
    {
      "cell_type": "code",
      "execution_count": 31,
      "metadata": {
        "id": "HY2xFHXp4hjc"
      },
      "outputs": [],
      "source": [
        "\n",
        "final_file = bigrams.withColumn(\"first_word\", lower(regexp_replace(F.col(\"_1\").getItem(\"_1\"), \"[^a-zA-Z0-9]\", \"\"))).withColumn(\"second_word\", lower(regexp_replace(F.col(\"_1\").getItem(\"_2\"), \"[^a-zA-Z0-9]\", \"\"))).withColumn(\"count\", F.col(\"_2\"))\n",
        "# Lowering all the alphabets abnd replacing special characters\n",
        "final_file = final_file.filter(F.col(\"first_word\") != \" \")\n",
        "final_file = final_file.filter(F.col(\"second_word\") != \" \")\n",
        "# Filtering to remove all the empty locations\n",
        "final_file = final_file.select(\"first_word\", \"second_word\", \"count\")"
      ]
    },
    {
      "cell_type": "code",
      "execution_count": 33,
      "metadata": {
        "colab": {
          "base_uri": "https://localhost:8080/"
        },
        "id": "O8Q7K1TV34Ld",
        "outputId": "eb4a118c-e8ff-4a14-968d-988434c96362"
      },
      "outputs": [
        {
          "name": "stdout",
          "output_type": "stream",
          "text": [
            "+----------+------------+-----+\n",
            "|first_word| second_word|count|\n",
            "+----------+------------+-----+\n",
            "|        is|   presented|    1|\n",
            "|   project|   gutenberg|    1|\n",
            "| gutenberg|          in|    1|\n",
            "|     world|     library|    1|\n",
            "|   library|         inc|    1|\n",
            "|      from|       their|    4|\n",
            "|     their|     library|    1|\n",
            "|          |     project|    1|\n",
            "| gutenberg|       often|    1|\n",
            "|     often|    releases|    1|\n",
            "|    etexts|        that|    1|\n",
            "|    placed|          in|    1|\n",
            "|    public|      domain|    1|\n",
            "|      this|       etext|    1|\n",
            "|   certain|   copyright|    1|\n",
            "| copyright|implications|    1|\n",
            "|       you|      should|    2|\n",
            "|electronic|     version|    9|\n",
            "|   version|          of|    9|\n",
            "|       the|    complete|    9|\n",
            "+----------+------------+-----+\n",
            "only showing top 20 rows\n",
            "\n"
          ]
        }
      ],
      "source": [
        "final_file.show()"
      ]
    },
    {
      "cell_type": "code",
      "execution_count": 46,
      "metadata": {
        "id": "NzQJ5OOv82aT"
      },
      "outputs": [],
      "source": [
        "finder = final_file.join(final, final_file.first_word == final.word, 'left').dropna()\n",
        "# Left join on the dataframe"
      ]
    },
    {
      "cell_type": "code",
      "execution_count": 47,
      "metadata": {
        "colab": {
          "base_uri": "https://localhost:8080/"
        },
        "id": "MVyvxHI8-Xfb",
        "outputId": "185af0eb-ebba-4b82-d3a0-c0064705ed6c"
      },
      "outputs": [
        {
          "name": "stdout",
          "output_type": "stream",
          "text": [
            "+----------+-------------+-----+---------+-------+\n",
            "|first_word|  second_word|count|     word|divisor|\n",
            "+----------+-------------+-----+---------+-------+\n",
            "|     those|          who|    1|    those|     17|\n",
            "|  carnegie|       mellon|    8| carnegie|     10|\n",
            "|     those|     intended|    1|    those|     17|\n",
            "|      some|       states|    1|     some|     58|\n",
            "|  carnegie|       mellon|    1| carnegie|     10|\n",
            "|       art|          not|    4|      art|     55|\n",
            "|     those|           so|    1|    those|     17|\n",
            "|     those|      persons|    2|    those|     17|\n",
            "|     cures|         with|    1|    cures|      1|\n",
            "|      some|         that|    1|     some|     58|\n",
            "|       art|          dun|    1|      art|     55|\n",
            "|      some|  consequence|    1|     some|     58|\n",
            "|      some|         vile|    1|     some|     58|\n",
            "|      some|fiveandtwenty|    1|     some|     58|\n",
            "| solemnity|         this|    1|solemnity|      3|\n",
            "|     those|        stars|    1|    those|     17|\n",
            "|       art|         thou|    4|      art|     55|\n",
            "|     those|         that|    3|    those|     17|\n",
            "|      some|        noise|    1|     some|     58|\n",
            "|      some|      special|    1|     some|     58|\n",
            "+----------+-------------+-----+---------+-------+\n",
            "only showing top 20 rows\n",
            "\n"
          ]
        }
      ],
      "source": [
        "finder.show()"
      ]
    },
    {
      "cell_type": "code",
      "execution_count": 56,
      "metadata": {
        "id": "R_gAIYSs_WM4"
      },
      "outputs": [],
      "source": [
        "import pandas as pd\n",
        "finder = finder.toPandas()"
      ]
    },
    {
      "cell_type": "code",
      "execution_count": 57,
      "metadata": {
        "id": "NegF4mcK_PLx"
      },
      "outputs": [],
      "source": [
        "finder['percent'] = finder['count']/ finder['divisor']"
      ]
    },
    {
      "cell_type": "code",
      "execution_count": 58,
      "metadata": {
        "colab": {
          "base_uri": "https://localhost:8080/",
          "height": 424
        },
        "id": "bWZbkCfbAeCg",
        "outputId": "2fd7299e-01fe-485a-a441-0c703c621b53"
      },
      "outputs": [
        {
          "data": {
            "text/html": [
              "\n",
              "  <div id=\"df-5b453ebf-d3c9-49e5-81aa-f22db1055448\">\n",
              "    <div class=\"colab-df-container\">\n",
              "      <div>\n",
              "<style scoped>\n",
              "    .dataframe tbody tr th:only-of-type {\n",
              "        vertical-align: middle;\n",
              "    }\n",
              "\n",
              "    .dataframe tbody tr th {\n",
              "        vertical-align: top;\n",
              "    }\n",
              "\n",
              "    .dataframe thead th {\n",
              "        text-align: right;\n",
              "    }\n",
              "</style>\n",
              "<table border=\"1\" class=\"dataframe\">\n",
              "  <thead>\n",
              "    <tr style=\"text-align: right;\">\n",
              "      <th></th>\n",
              "      <th>first_word</th>\n",
              "      <th>second_word</th>\n",
              "      <th>count</th>\n",
              "      <th>word</th>\n",
              "      <th>divisor</th>\n",
              "      <th>percent</th>\n",
              "    </tr>\n",
              "  </thead>\n",
              "  <tbody>\n",
              "    <tr>\n",
              "      <th>0</th>\n",
              "      <td>those</td>\n",
              "      <td>who</td>\n",
              "      <td>1</td>\n",
              "      <td>those</td>\n",
              "      <td>17</td>\n",
              "      <td>0.058824</td>\n",
              "    </tr>\n",
              "    <tr>\n",
              "      <th>1</th>\n",
              "      <td>carnegie</td>\n",
              "      <td>mellon</td>\n",
              "      <td>8</td>\n",
              "      <td>carnegie</td>\n",
              "      <td>10</td>\n",
              "      <td>0.800000</td>\n",
              "    </tr>\n",
              "    <tr>\n",
              "      <th>2</th>\n",
              "      <td>those</td>\n",
              "      <td>intended</td>\n",
              "      <td>1</td>\n",
              "      <td>those</td>\n",
              "      <td>17</td>\n",
              "      <td>0.058824</td>\n",
              "    </tr>\n",
              "    <tr>\n",
              "      <th>3</th>\n",
              "      <td>some</td>\n",
              "      <td>states</td>\n",
              "      <td>1</td>\n",
              "      <td>some</td>\n",
              "      <td>58</td>\n",
              "      <td>0.017241</td>\n",
              "    </tr>\n",
              "    <tr>\n",
              "      <th>4</th>\n",
              "      <td>carnegie</td>\n",
              "      <td>mellon</td>\n",
              "      <td>1</td>\n",
              "      <td>carnegie</td>\n",
              "      <td>10</td>\n",
              "      <td>0.100000</td>\n",
              "    </tr>\n",
              "    <tr>\n",
              "      <th>...</th>\n",
              "      <td>...</td>\n",
              "      <td>...</td>\n",
              "      <td>...</td>\n",
              "      <td>...</td>\n",
              "      <td>...</td>\n",
              "      <td>...</td>\n",
              "    </tr>\n",
              "    <tr>\n",
              "      <th>18089</th>\n",
              "      <td>shalt</td>\n",
              "      <td>continue</td>\n",
              "      <td>1</td>\n",
              "      <td>shalt</td>\n",
              "      <td>11</td>\n",
              "      <td>0.090909</td>\n",
              "    </tr>\n",
              "    <tr>\n",
              "      <th>18090</th>\n",
              "      <td>shalt</td>\n",
              "      <td>be</td>\n",
              "      <td>2</td>\n",
              "      <td>shalt</td>\n",
              "      <td>11</td>\n",
              "      <td>0.181818</td>\n",
              "    </tr>\n",
              "    <tr>\n",
              "      <th>18091</th>\n",
              "      <td>empty</td>\n",
              "      <td>boxes</td>\n",
              "      <td>1</td>\n",
              "      <td>empty</td>\n",
              "      <td>4</td>\n",
              "      <td>0.250000</td>\n",
              "    </tr>\n",
              "    <tr>\n",
              "      <th>18092</th>\n",
              "      <td>living</td>\n",
              "      <td>corse</td>\n",
              "      <td>1</td>\n",
              "      <td>living</td>\n",
              "      <td>5</td>\n",
              "      <td>0.200000</td>\n",
              "    </tr>\n",
              "    <tr>\n",
              "      <th>18093</th>\n",
              "      <td>street</td>\n",
              "      <td>cry</td>\n",
              "      <td>1</td>\n",
              "      <td>street</td>\n",
              "      <td>6</td>\n",
              "      <td>0.166667</td>\n",
              "    </tr>\n",
              "  </tbody>\n",
              "</table>\n",
              "<p>18094 rows × 6 columns</p>\n",
              "</div>\n",
              "      <button class=\"colab-df-convert\" onclick=\"convertToInteractive('df-5b453ebf-d3c9-49e5-81aa-f22db1055448')\"\n",
              "              title=\"Convert this dataframe to an interactive table.\"\n",
              "              style=\"display:none;\">\n",
              "        \n",
              "  <svg xmlns=\"http://www.w3.org/2000/svg\" height=\"24px\"viewBox=\"0 0 24 24\"\n",
              "       width=\"24px\">\n",
              "    <path d=\"M0 0h24v24H0V0z\" fill=\"none\"/>\n",
              "    <path d=\"M18.56 5.44l.94 2.06.94-2.06 2.06-.94-2.06-.94-.94-2.06-.94 2.06-2.06.94zm-11 1L8.5 8.5l.94-2.06 2.06-.94-2.06-.94L8.5 2.5l-.94 2.06-2.06.94zm10 10l.94 2.06.94-2.06 2.06-.94-2.06-.94-.94-2.06-.94 2.06-2.06.94z\"/><path d=\"M17.41 7.96l-1.37-1.37c-.4-.4-.92-.59-1.43-.59-.52 0-1.04.2-1.43.59L10.3 9.45l-7.72 7.72c-.78.78-.78 2.05 0 2.83L4 21.41c.39.39.9.59 1.41.59.51 0 1.02-.2 1.41-.59l7.78-7.78 2.81-2.81c.8-.78.8-2.07 0-2.86zM5.41 20L4 18.59l7.72-7.72 1.47 1.35L5.41 20z\"/>\n",
              "  </svg>\n",
              "      </button>\n",
              "      \n",
              "  <style>\n",
              "    .colab-df-container {\n",
              "      display:flex;\n",
              "      flex-wrap:wrap;\n",
              "      gap: 12px;\n",
              "    }\n",
              "\n",
              "    .colab-df-convert {\n",
              "      background-color: #E8F0FE;\n",
              "      border: none;\n",
              "      border-radius: 50%;\n",
              "      cursor: pointer;\n",
              "      display: none;\n",
              "      fill: #1967D2;\n",
              "      height: 32px;\n",
              "      padding: 0 0 0 0;\n",
              "      width: 32px;\n",
              "    }\n",
              "\n",
              "    .colab-df-convert:hover {\n",
              "      background-color: #E2EBFA;\n",
              "      box-shadow: 0px 1px 2px rgba(60, 64, 67, 0.3), 0px 1px 3px 1px rgba(60, 64, 67, 0.15);\n",
              "      fill: #174EA6;\n",
              "    }\n",
              "\n",
              "    [theme=dark] .colab-df-convert {\n",
              "      background-color: #3B4455;\n",
              "      fill: #D2E3FC;\n",
              "    }\n",
              "\n",
              "    [theme=dark] .colab-df-convert:hover {\n",
              "      background-color: #434B5C;\n",
              "      box-shadow: 0px 1px 3px 1px rgba(0, 0, 0, 0.15);\n",
              "      filter: drop-shadow(0px 1px 2px rgba(0, 0, 0, 0.3));\n",
              "      fill: #FFFFFF;\n",
              "    }\n",
              "  </style>\n",
              "\n",
              "      <script>\n",
              "        const buttonEl =\n",
              "          document.querySelector('#df-5b453ebf-d3c9-49e5-81aa-f22db1055448 button.colab-df-convert');\n",
              "        buttonEl.style.display =\n",
              "          google.colab.kernel.accessAllowed ? 'block' : 'none';\n",
              "\n",
              "        async function convertToInteractive(key) {\n",
              "          const element = document.querySelector('#df-5b453ebf-d3c9-49e5-81aa-f22db1055448');\n",
              "          const dataTable =\n",
              "            await google.colab.kernel.invokeFunction('convertToInteractive',\n",
              "                                                     [key], {});\n",
              "          if (!dataTable) return;\n",
              "\n",
              "          const docLinkHtml = 'Like what you see? Visit the ' +\n",
              "            '<a target=\"_blank\" href=https://colab.research.google.com/notebooks/data_table.ipynb>data table notebook</a>'\n",
              "            + ' to learn more about interactive tables.';\n",
              "          element.innerHTML = '';\n",
              "          dataTable['output_type'] = 'display_data';\n",
              "          await google.colab.output.renderOutput(dataTable, element);\n",
              "          const docLink = document.createElement('div');\n",
              "          docLink.innerHTML = docLinkHtml;\n",
              "          element.appendChild(docLink);\n",
              "        }\n",
              "      </script>\n",
              "    </div>\n",
              "  </div>\n",
              "  "
            ],
            "text/plain": [
              "      first_word second_word  count      word  divisor   percent\n",
              "0          those         who      1     those       17  0.058824\n",
              "1       carnegie      mellon      8  carnegie       10  0.800000\n",
              "2          those    intended      1     those       17  0.058824\n",
              "3           some      states      1      some       58  0.017241\n",
              "4       carnegie      mellon      1  carnegie       10  0.100000\n",
              "...          ...         ...    ...       ...      ...       ...\n",
              "18089      shalt    continue      1     shalt       11  0.090909\n",
              "18090      shalt          be      2     shalt       11  0.181818\n",
              "18091      empty       boxes      1     empty        4  0.250000\n",
              "18092     living       corse      1    living        5  0.200000\n",
              "18093     street         cry      1    street        6  0.166667\n",
              "\n",
              "[18094 rows x 6 columns]"
            ]
          },
          "execution_count": 58,
          "metadata": {},
          "output_type": "execute_result"
        }
      ],
      "source": [
        "finder\n",
        "# percent output of the MLE(maximum likelihood estimation) "
      ]
    }
  ],
  "metadata": {
    "colab": {
      "provenance": []
    },
    "kernelspec": {
      "display_name": "Python 3.9.6 64-bit",
      "language": "python",
      "name": "python3"
    },
    "language_info": {
      "name": "python",
      "version": "3.9.6"
    },
    "vscode": {
      "interpreter": {
        "hash": "cfb7935b20b1350c43bf64077ed6a04b20dae5a2fec5d0927cb7fd3126576106"
      }
    }
  },
  "nbformat": 4,
  "nbformat_minor": 0
}
