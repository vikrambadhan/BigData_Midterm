{
 "cells": [
  {
   "cell_type": "code",
   "execution_count": 1,
   "id": "852f7fd7-6a65-44ee-90a2-0ab5e3f21e6c",
   "metadata": {},
   "outputs": [
    {
     "name": "stdout",
     "output_type": "stream",
     "text": [
      "Defaulting to user installation because normal site-packages is not writeable\n",
      "Requirement already satisfied: pyspark in /opt/conda/envs/bigdata-fall22/lib/python3.7/site-packages (3.3.0)\n",
      "Requirement already satisfied: py4j==0.10.9.5 in /opt/conda/envs/bigdata-fall22/lib/python3.7/site-packages (from pyspark) (0.10.9.5)\n"
     ]
    }
   ],
   "source": [
    "!pip install pyspark"
   ]
  },
  {
   "cell_type": "code",
   "execution_count": null,
   "id": "d6b11239-fe7b-4499-b957-19f3f44f47ba",
   "metadata": {},
   "outputs": [],
   "source": []
  },
  {
   "cell_type": "code",
   "execution_count": 1,
   "id": "961905ea-efd5-4420-a8ae-fd052f16c2b9",
   "metadata": {},
   "outputs": [
    {
     "name": "stderr",
     "output_type": "stream",
     "text": [
      "Setting default log level to \"WARN\".\n",
      "To adjust logging level use sc.setLogLevel(newLevel). For SparkR, use setLogLevel(newLevel).\n"
     ]
    },
    {
     "name": "stdout",
     "output_type": "stream",
     "text": [
      "22/10/25 22:45:17 WARN NativeCodeLoader: Unable to load native-hadoop library for your platform... using builtin-java classes where applicable\n"
     ]
    }
   ],
   "source": [
    "import os\n",
    "import pyspark\n",
    "from pyspark.sql import SparkSession\n",
    "import pyspark.sql.functions \n",
    "from pyspark.sql.functions import hour, split\n",
    "from pyspark.sql.types import StructType,StructField, StringType, FloatType, IntegerType\n",
    "from pyspark.sql.functions import *\n",
    "conf = pyspark.SparkConf()\n",
    "conf.set('spark.ui.proxyBase', '/user/' + os.environ['JUPYTERHUB_USER'] + '/proxy/4041')\n",
    "conf.set('spark.sql.repl.eagerEval.enabled', True)\n",
    "sc = pyspark.SparkContext(conf=conf)"
   ]
  },
  {
   "cell_type": "code",
   "execution_count": null,
   "id": "179ed535-98b0-425c-b07c-1d6b83360bb0",
   "metadata": {},
   "outputs": [],
   "source": []
  },
  {
   "cell_type": "code",
   "execution_count": 2,
   "id": "1dd08281-4b0e-4dfd-80c0-1a8c5ed00aba",
   "metadata": {},
   "outputs": [
    {
     "name": "stderr",
     "output_type": "stream",
     "text": [
      "/opt/conda/envs/bigdata-fall22/lib/python3.7/site-packages/pyspark/sql/context.py:159: FutureWarning: Deprecated in 3.0.0. Use SparkSession.builder.getOrCreate() instead.\n",
      "  FutureWarning,\n"
     ]
    }
   ],
   "source": [
    "spark = pyspark.SQLContext.getOrCreate(sc)"
   ]
  },
  {
   "cell_type": "code",
   "execution_count": null,
   "id": "68880948-045f-46fd-8a19-d456b63a5c48",
   "metadata": {},
   "outputs": [],
   "source": []
  },
  {
   "cell_type": "code",
   "execution_count": 3,
   "id": "4e45f460-f4ef-471a-b14b-0ef5b8d31f31",
   "metadata": {},
   "outputs": [],
   "source": [
    "from pyspark.sql.functions import col,max,count,avg"
   ]
  },
  {
   "cell_type": "code",
   "execution_count": null,
   "id": "c8ea96c5-0d1e-4a76-87db-5411b6c8ec28",
   "metadata": {},
   "outputs": [],
   "source": []
  },
  {
   "cell_type": "code",
   "execution_count": 4,
   "id": "72c1dfb4-75d4-4d07-858c-e3f74e061105",
   "metadata": {},
   "outputs": [],
   "source": [
    "#Path to the dataset\n",
    "dir_path = 'shared/midterm/drive_stats_2019_Q1/'"
   ]
  },
  {
   "cell_type": "code",
   "execution_count": 5,
   "id": "2184ba46-cad9-4403-8fb6-b722f86ffbc6",
   "metadata": {},
   "outputs": [],
   "source": [
    "from os import listdir\n",
    "total_files = [dir_path + f for f in listdir(dir_path)]\n",
    "total_files.sort()"
   ]
  },
  {
   "cell_type": "code",
   "execution_count": 6,
   "id": "0e610451-06c6-4de9-b650-3eea5f52f02c",
   "metadata": {},
   "outputs": [],
   "source": [
    "TabA = total_files[7:]\n",
    "TabB = total_files[:7]"
   ]
  },
  {
   "cell_type": "code",
   "execution_count": 7,
   "id": "03a05c34-bc36-498e-a69d-99b254d334ca",
   "metadata": {},
   "outputs": [
    {
     "name": "stderr",
     "output_type": "stream",
     "text": [
      "                                                                                \r"
     ]
    }
   ],
   "source": [
    "data_A = spark.read.csv(TabA, sep=',',inferSchema=True, header=True)\n",
    "data_B = spark.read.csv(TabB, sep=',',inferSchema=True, header=True)"
   ]
  },
  {
   "cell_type": "code",
   "execution_count": 8,
   "id": "be8b3bb0-f89e-4085-891d-0e1c867aa782",
   "metadata": {},
   "outputs": [
    {
     "name": "stdout",
     "output_type": "stream",
     "text": [
      "Defaulting to user installation because normal site-packages is not writeable\n",
      "Requirement already satisfied: bloom_filter2 in /opt/conda/envs/bigdata-fall22/lib/python3.7/site-packages (2.0.0)\n"
     ]
    }
   ],
   "source": [
    "#Installing and importing Bloom Filter\n",
    "!pip install bloom_filter2\n",
    "from bloom_filter2 import BloomFilter"
   ]
  },
  {
   "cell_type": "code",
   "execution_count": 9,
   "id": "b9953a7d-8dc0-42cf-ae57-cfeb7142b901",
   "metadata": {},
   "outputs": [],
   "source": [
    "capacity = 1000\n",
    "t = BloomFilter(capacity, error_rate=0.001)"
   ]
  },
  {
   "cell_type": "code",
   "execution_count": 18,
   "id": "693c94b2-ff69-47ff-940a-e2e30fe9a7d7",
   "metadata": {},
   "outputs": [
    {
     "name": "stderr",
     "output_type": "stream",
     "text": [
      "                                                                                \r"
     ]
    }
   ],
   "source": [
    "dist_mods = data_B.select('model').distinct()\n",
    "cnt = dist_mods.count()\n",
    "for i in range(cnt):\n",
    "    t.add(dist_mods.collect()[i]['model'])"
   ]
  },
  {
   "cell_type": "code",
   "execution_count": 22,
   "id": "5cea8297-9207-486b-8375-bbfa972124c5",
   "metadata": {},
   "outputs": [],
   "source": [
    "bf = sc.broadcast(t)"
   ]
  },
  {
   "cell_type": "code",
   "execution_count": 23,
   "id": "7be7d8f3-9fbe-4fa9-a6d4-18c0b6b9b500",
   "metadata": {},
   "outputs": [],
   "source": [
    "final_ans = data_A.select('model').distinct()"
   ]
  },
  {
   "cell_type": "code",
   "execution_count": 24,
   "id": "0caccfe7-63c1-47c2-9576-766ad1e17c2a",
   "metadata": {},
   "outputs": [
    {
     "name": "stderr",
     "output_type": "stream",
     "text": [
      "                                                                                \r"
     ]
    },
    {
     "name": "stdout",
     "output_type": "stream",
     "text": [
      "+--------------------+\n",
      "|               Model|\n",
      "+--------------------+\n",
      "|         ST4000DM000|\n",
      "|       ST12000NM0007|\n",
      "|         ST8000DM005|\n",
      "|          ST320LT007|\n",
      "| TOSHIBA MQ01ABF050M|\n",
      "|        ST8000NM0055|\n",
      "|Seagate BarraCuda...|\n",
      "| TOSHIBA MG07ACA14TA|\n",
      "|        WDC WD60EFRX|\n",
      "|         ST8000DM002|\n",
      "|         ST4000DM005|\n",
      "|HGST HUS726040ALE610|\n",
      "|     TOSHIBA HDWF180|\n",
      "|HGST HMS5C4040ALE640|\n",
      "|HGST HUH721010ALE600|\n",
      "| TOSHIBA MD04ABA500V|\n",
      "| TOSHIBA MD04ABA400V|\n",
      "|       ST10000NM0086|\n",
      "|      WDC WD2500AAJS|\n",
      "|  TOSHIBA MQ01ABF050|\n",
      "+--------------------+\n",
      "only showing top 20 rows\n",
      "\n"
     ]
    }
   ],
   "source": [
    "final_ans.rdd.map(lambda x: [x[0],x[0] in bf.value]).toDF(['Model','Found']).filter(col('Found')=='true').select('Model').show()\n",
    "\n"
   ]
  },
  {
   "cell_type": "code",
   "execution_count": null,
   "id": "0904c661-0393-4dd3-b44e-e6a51aac433b",
   "metadata": {},
   "outputs": [],
   "source": []
  },
  {
   "cell_type": "code",
   "execution_count": null,
   "id": "17606e10-ca69-47d2-b246-0901dfee199c",
   "metadata": {},
   "outputs": [],
   "source": []
  },
  {
   "cell_type": "code",
   "execution_count": null,
   "id": "cd9a55ea-f2ae-41cb-acec-ed95528ab14e",
   "metadata": {},
   "outputs": [],
   "source": []
  },
  {
   "cell_type": "code",
   "execution_count": null,
   "id": "e353c958-f979-4304-88e5-15c53bf27679",
   "metadata": {},
   "outputs": [],
   "source": []
  },
  {
   "cell_type": "code",
   "execution_count": null,
   "id": "d2180549-aac6-4d84-827b-16edac6f426f",
   "metadata": {},
   "outputs": [],
   "source": []
  },
  {
   "cell_type": "code",
   "execution_count": null,
   "id": "0c8ddad8-dde6-4c91-98fa-f9857de882b6",
   "metadata": {},
   "outputs": [],
   "source": []
  },
  {
   "cell_type": "code",
   "execution_count": null,
   "id": "381048b9-4989-406a-bbd2-7a54bee40767",
   "metadata": {},
   "outputs": [],
   "source": []
  },
  {
   "cell_type": "code",
   "execution_count": 12,
   "id": "1351e69b-2d44-4948-9610-ee884c64145a",
   "metadata": {},
   "outputs": [],
   "source": []
  },
  {
   "cell_type": "code",
   "execution_count": null,
   "id": "94b9d293-2324-49ec-8d41-d0ed37ee8b21",
   "metadata": {},
   "outputs": [],
   "source": []
  },
  {
   "cell_type": "code",
   "execution_count": null,
   "id": "6bc6f4ce-eafe-4738-a6e0-826ddc1e0443",
   "metadata": {},
   "outputs": [],
   "source": []
  },
  {
   "cell_type": "code",
   "execution_count": null,
   "id": "c29f6e5d-0dee-49e2-944b-09dc312636d2",
   "metadata": {},
   "outputs": [],
   "source": []
  },
  {
   "cell_type": "code",
   "execution_count": null,
   "id": "6dd17433-d94e-4485-8535-ae26a66a22e3",
   "metadata": {},
   "outputs": [],
   "source": []
  },
  {
   "cell_type": "code",
   "execution_count": null,
   "id": "d9ed6dfe-412e-4c07-839d-4909ba9e2acc",
   "metadata": {},
   "outputs": [],
   "source": []
  },
  {
   "cell_type": "code",
   "execution_count": null,
   "id": "f2e840db-6157-468f-a639-7cf41fce0dc0",
   "metadata": {},
   "outputs": [],
   "source": []
  },
  {
   "cell_type": "code",
   "execution_count": null,
   "id": "ba67e415-3e39-47f2-a48a-c00f0b509c50",
   "metadata": {},
   "outputs": [],
   "source": []
  },
  {
   "cell_type": "code",
   "execution_count": null,
   "id": "e20ef18f-93ea-4241-94ab-9dda9c2fca27",
   "metadata": {},
   "outputs": [],
   "source": []
  },
  {
   "cell_type": "code",
   "execution_count": null,
   "id": "2853ebaf-86ce-4d91-9001-c0761770ac46",
   "metadata": {},
   "outputs": [],
   "source": []
  },
  {
   "cell_type": "code",
   "execution_count": null,
   "id": "0f9deeea-6a30-4658-b3dc-b2cb1c39b306",
   "metadata": {},
   "outputs": [],
   "source": []
  },
  {
   "cell_type": "code",
   "execution_count": null,
   "id": "b7b057c6-878c-4ec8-8fa0-4aa4249909b7",
   "metadata": {},
   "outputs": [],
   "source": []
  },
  {
   "cell_type": "code",
   "execution_count": null,
   "id": "2295af8a-48b5-4f30-a935-146675f64c4c",
   "metadata": {},
   "outputs": [],
   "source": []
  },
  {
   "cell_type": "code",
   "execution_count": null,
   "id": "e20a760a-af01-4a1c-b2d3-e577ab4bbf23",
   "metadata": {},
   "outputs": [],
   "source": []
  },
  {
   "cell_type": "code",
   "execution_count": null,
   "id": "b4dc5152-ea79-4777-8521-8478c99ed9ea",
   "metadata": {},
   "outputs": [],
   "source": []
  },
  {
   "cell_type": "code",
   "execution_count": null,
   "id": "f44efd5f-5b3f-42a0-9e25-5af7675591b2",
   "metadata": {},
   "outputs": [],
   "source": []
  },
  {
   "cell_type": "code",
   "execution_count": null,
   "id": "2dd8c9fe-9930-45e1-a3b3-8f67c48ebdb7",
   "metadata": {},
   "outputs": [],
   "source": []
  },
  {
   "cell_type": "code",
   "execution_count": null,
   "id": "06cba9cc-2c73-4b3d-be50-ee5ee8eaf9c7",
   "metadata": {},
   "outputs": [],
   "source": []
  },
  {
   "cell_type": "code",
   "execution_count": null,
   "id": "5f131af0-e235-4b24-beb7-2d3d4b27f7ce",
   "metadata": {},
   "outputs": [],
   "source": []
  },
  {
   "cell_type": "code",
   "execution_count": null,
   "id": "1b8b9c3c-8f8e-46d7-a80b-91632a86b3af",
   "metadata": {},
   "outputs": [],
   "source": []
  },
  {
   "cell_type": "code",
   "execution_count": null,
   "id": "e1fbc4f2-d7ff-4140-bab9-743d39b0af91",
   "metadata": {},
   "outputs": [],
   "source": []
  },
  {
   "cell_type": "code",
   "execution_count": null,
   "id": "187590ee-8b5e-46c6-8e8a-a9179b7c995c",
   "metadata": {},
   "outputs": [],
   "source": []
  },
  {
   "cell_type": "code",
   "execution_count": null,
   "id": "61b4836c-5e98-4cad-bb1f-c77d8bdb1c59",
   "metadata": {},
   "outputs": [],
   "source": []
  },
  {
   "cell_type": "code",
   "execution_count": null,
   "id": "292e0b8f-f4fa-44c6-857d-c23c9352cdbe",
   "metadata": {},
   "outputs": [],
   "source": []
  },
  {
   "cell_type": "code",
   "execution_count": 4,
   "id": "06a9f5c9-ab2e-45ce-b5ca-6972be24c1d0",
   "metadata": {},
   "outputs": [],
   "source": []
  },
  {
   "cell_type": "code",
   "execution_count": null,
   "id": "cfcd8a75-db95-441a-8760-85ed95764805",
   "metadata": {},
   "outputs": [],
   "source": []
  },
  {
   "cell_type": "code",
   "execution_count": null,
   "id": "c38e8e4e-c87d-4fb3-a159-8b731865aae6",
   "metadata": {},
   "outputs": [],
   "source": []
  },
  {
   "cell_type": "code",
   "execution_count": null,
   "id": "1ae979c7-f4aa-47e8-8cba-70a57432e32f",
   "metadata": {},
   "outputs": [],
   "source": []
  },
  {
   "cell_type": "code",
   "execution_count": null,
   "id": "974107a6-6a5f-46bb-988a-15516909b932",
   "metadata": {},
   "outputs": [],
   "source": []
  },
  {
   "cell_type": "code",
   "execution_count": null,
   "id": "c8803a0a-5345-467c-a9cc-571e74b91ab7",
   "metadata": {},
   "outputs": [],
   "source": []
  },
  {
   "cell_type": "code",
   "execution_count": null,
   "id": "1ba20241-d150-460e-a23b-ed767f59bea5",
   "metadata": {},
   "outputs": [],
   "source": []
  },
  {
   "cell_type": "code",
   "execution_count": null,
   "id": "40363490-6797-4f95-b660-426d34f89386",
   "metadata": {},
   "outputs": [],
   "source": []
  },
  {
   "cell_type": "code",
   "execution_count": null,
   "id": "7c4615ca-34a0-422a-a1cd-02c3b20d8e33",
   "metadata": {},
   "outputs": [],
   "source": []
  },
  {
   "cell_type": "code",
   "execution_count": null,
   "id": "846b6fa9-4e8b-402e-87b2-a0ead7d951af",
   "metadata": {},
   "outputs": [],
   "source": []
  },
  {
   "cell_type": "code",
   "execution_count": null,
   "id": "cae86822-44ff-4b23-9853-7903481f26aa",
   "metadata": {},
   "outputs": [],
   "source": []
  },
  {
   "cell_type": "code",
   "execution_count": null,
   "id": "63713555-32e7-4cf7-8a4c-571fa11430a5",
   "metadata": {},
   "outputs": [],
   "source": []
  },
  {
   "cell_type": "code",
   "execution_count": null,
   "id": "d9305288-2c94-4d8e-841b-72db84157fc7",
   "metadata": {},
   "outputs": [],
   "source": []
  },
  {
   "cell_type": "code",
   "execution_count": null,
   "id": "2c21b456-2884-46f3-a1de-321b904efd30",
   "metadata": {},
   "outputs": [],
   "source": []
  },
  {
   "cell_type": "code",
   "execution_count": null,
   "id": "f315d7e8-cb03-453a-b200-59909ae51305",
   "metadata": {},
   "outputs": [],
   "source": []
  },
  {
   "cell_type": "code",
   "execution_count": null,
   "id": "a33c93e6-676a-4227-82ec-d58f9afe4b73",
   "metadata": {},
   "outputs": [],
   "source": []
  },
  {
   "cell_type": "code",
   "execution_count": null,
   "id": "fa611311-2c07-4f42-b33b-3de693e6d202",
   "metadata": {},
   "outputs": [],
   "source": []
  },
  {
   "cell_type": "code",
   "execution_count": null,
   "id": "3dddfebf-3640-4643-a667-69533898b94c",
   "metadata": {},
   "outputs": [],
   "source": []
  },
  {
   "cell_type": "code",
   "execution_count": null,
   "id": "276ceae6-6419-4870-922d-5bc8f2401815",
   "metadata": {},
   "outputs": [],
   "source": []
  },
  {
   "cell_type": "code",
   "execution_count": null,
   "id": "cc247a83-a2f5-4f59-9136-3a1088e663ad",
   "metadata": {},
   "outputs": [],
   "source": []
  },
  {
   "cell_type": "code",
   "execution_count": null,
   "id": "68dca6a1-07ec-4ac8-8e4c-42b309b03552",
   "metadata": {},
   "outputs": [],
   "source": []
  },
  {
   "cell_type": "code",
   "execution_count": null,
   "id": "ebf4e6f0-9df6-4043-a859-fba9ca19d687",
   "metadata": {},
   "outputs": [],
   "source": []
  },
  {
   "cell_type": "code",
   "execution_count": null,
   "id": "62b446ab-8e95-4d86-929e-be76d18b3def",
   "metadata": {},
   "outputs": [],
   "source": []
  },
  {
   "cell_type": "code",
   "execution_count": null,
   "id": "092967d1-a063-407c-afbb-af386f140dad",
   "metadata": {},
   "outputs": [],
   "source": []
  },
  {
   "cell_type": "code",
   "execution_count": null,
   "id": "f799fa59-f43a-46e3-b3d4-849e84a868cd",
   "metadata": {},
   "outputs": [],
   "source": []
  },
  {
   "cell_type": "code",
   "execution_count": null,
   "id": "f7534fe7-367d-492a-8fe6-47a8b2be9b3b",
   "metadata": {},
   "outputs": [],
   "source": []
  },
  {
   "cell_type": "code",
   "execution_count": null,
   "id": "8c3e1ef0-fd8e-40f4-83ca-83ae49d6b4ba",
   "metadata": {},
   "outputs": [],
   "source": []
  },
  {
   "cell_type": "code",
   "execution_count": null,
   "id": "3af8f7d4-dd69-4563-9055-7266a0dcc5fa",
   "metadata": {},
   "outputs": [],
   "source": []
  },
  {
   "cell_type": "code",
   "execution_count": null,
   "id": "84805f22-6fd4-4985-b8ab-531a7789542d",
   "metadata": {},
   "outputs": [],
   "source": []
  },
  {
   "cell_type": "code",
   "execution_count": null,
   "id": "a7920457-f530-4252-94dd-d9eaef2933b7",
   "metadata": {},
   "outputs": [],
   "source": []
  },
  {
   "cell_type": "code",
   "execution_count": null,
   "id": "6b7435c5-cfd9-4b70-8d5c-6df7562c323d",
   "metadata": {},
   "outputs": [],
   "source": []
  },
  {
   "cell_type": "code",
   "execution_count": null,
   "id": "47f6b759-25ac-49dd-b9d9-ed6295b119a3",
   "metadata": {},
   "outputs": [],
   "source": []
  }
 ],
 "metadata": {
  "kernelspec": {
   "display_name": "Python 3.9.6 64-bit",
   "language": "python",
   "name": "python3"
  },
  "language_info": {
   "codemirror_mode": {
    "name": "ipython",
    "version": 3
   },
   "file_extension": ".py",
   "mimetype": "text/x-python",
   "name": "python",
   "nbconvert_exporter": "python",
   "pygments_lexer": "ipython3",
   "version": "3.9.6"
  },
  "vscode": {
   "interpreter": {
    "hash": "cfb7935b20b1350c43bf64077ed6a04b20dae5a2fec5d0927cb7fd3126576106"
   }
  }
 },
 "nbformat": 4,
 "nbformat_minor": 5
}
