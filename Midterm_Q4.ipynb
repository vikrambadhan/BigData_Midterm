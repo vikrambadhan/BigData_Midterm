{
  "cells": [
    {
      "cell_type": "code",
      "execution_count": 33,
      "metadata": {
        "colab": {
          "base_uri": "https://localhost:8080/"
        },
        "id": "h0YM7S53pdSl",
        "outputId": "86885969-2336-4041-c2fb-b8f8bbb68b7b"
      },
      "outputs": [
        {
          "name": "stdout",
          "output_type": "stream",
          "text": [
            "Looking in indexes: https://pypi.org/simple, https://us-python.pkg.dev/colab-wheels/public/simple/\n",
            "Requirement already satisfied: pyspark in /usr/local/lib/python3.7/dist-packages (3.3.1)\n",
            "Requirement already satisfied: py4j==0.10.9.5 in /usr/local/lib/python3.7/dist-packages (from pyspark) (0.10.9.5)\n"
          ]
        }
      ],
      "source": [
        "!pip3 install pyspark\n",
        "import pyspark\n"
      ]
    },
    {
      "cell_type": "code",
      "execution_count": 34,
      "metadata": {
        "id": "GzlMofe9pnYD"
      },
      "outputs": [],
      "source": [
        "spark = pyspark.sql.SparkSession.builder\\\n",
        "        .master('local[*]')\\\n",
        "        .appName('vikram_Midterm_Q4')\\\n",
        "        .getOrCreate()"
      ]
    },
    {
      "cell_type": "code",
      "execution_count": 35,
      "metadata": {
        "colab": {
          "base_uri": "https://localhost:8080/",
          "height": 196
        },
        "id": "m--Hui7Vp6bP",
        "outputId": "b249cdbb-9c8b-4700-efef-cc232ae72b65"
      },
      "outputs": [
        {
          "data": {
            "text/html": [
              "\n",
              "        <div>\n",
              "            <p><b>SparkContext</b></p>\n",
              "\n",
              "            <p><a href=\"http://a70875223fb8:4040\">Spark UI</a></p>\n",
              "\n",
              "            <dl>\n",
              "              <dt>Version</dt>\n",
              "                <dd><code>v3.3.1</code></dd>\n",
              "              <dt>Master</dt>\n",
              "                <dd><code>local[*]</code></dd>\n",
              "              <dt>AppName</dt>\n",
              "                <dd><code>vikram_Midterm_Q4</code></dd>\n",
              "            </dl>\n",
              "        </div>\n",
              "        "
            ],
            "text/plain": [
              "<SparkContext master=local[*] appName=vikram_Midterm_Q4>"
            ]
          },
          "execution_count": 35,
          "metadata": {},
          "output_type": "execute_result"
        }
      ],
      "source": [
        "sc = spark.sparkContext\n",
        "sc.setLogLevel(\"ERROR\")\n",
        "sc"
      ]
    },
    {
      "cell_type": "code",
      "execution_count": 36,
      "metadata": {
        "id": "2uite6zbgc_K"
      },
      "outputs": [],
      "source": [
        "#Top 5 items bought between the time period of 9:00AM inclusive and 11:00PM exclusive\n",
        "from pyspark.sql.functions import *\n",
        "datata=spark.read.option(\"header\",True).format(\"csv\").load(\"BreadBasket_DMS.csv\")\n",
        "data.createOrReplaceTempView(\"datatable\")\n",
        "data1 = spark.sql(\"Select Item, hour(Time), count(Item) as QtySold from datatable where hour(time)>=9 and hour(time) < 23 group by item,hour(Time) order by hour(Time), QtySold desc\")"
      ]
    },
    {
      "cell_type": "code",
      "execution_count": 37,
      "metadata": {
        "id": "WY5CYElIg7xz"
      },
      "outputs": [],
      "source": [
        "#TOP 2 items every Hour \n",
        "from pyspark.sql.window import Window\n",
        "from pyspark.sql.functions import row_number\n",
        "from pyspark.sql import functions as F\n",
        "\n",
        "temp = Window.partitionBy(\"hour(Time)\")\n",
        "temp = temp.orderBy(desc(\"QtySold\"))\n",
        "final = data1.withColumn(\"rank\",rank().over(temp)).withColumn(\"rank2\",F.row_number().over(temp)).where(col(\"rank\") <= 2)"
      ]
    },
    {
      "cell_type": "code",
      "execution_count": 38,
      "metadata": {
        "colab": {
          "base_uri": "https://localhost:8080/"
        },
        "id": "y2djc9wDhS1h",
        "outputId": "49623566-ef6d-485e-dda4-02cba81e1ce9"
      },
      "outputs": [
        {
          "name": "stdout",
          "output_type": "stream",
          "text": [
            "+--------------------+----------+-------+\n",
            "|                item|hour(time)|QtySold|\n",
            "+--------------------+----------+-------+\n",
            "|              Coffee|         9|    583|\n",
            "|               Bread|         9|    400|\n",
            "|              Coffee|        10|    820|\n",
            "|               Bread|        10|    508|\n",
            "|              Coffee|        11|    946|\n",
            "|               Bread|        11|    528|\n",
            "|              Coffee|        12|    740|\n",
            "|               Bread|        12|    474|\n",
            "|              Coffee|        13|    607|\n",
            "|               Bread|        13|    340|\n",
            "|              Coffee|        14|    636|\n",
            "|               Bread|        14|    341|\n",
            "|              Coffee|        15|    519|\n",
            "|               Bread|        15|    310|\n",
            "|              Coffee|        16|    321|\n",
            "|               Bread|        16|    196|\n",
            "|              Coffee|        17|     69|\n",
            "|               Bread|        17|     46|\n",
            "|Afternoon with th...|        18|     14|\n",
            "|              Coffee|        18|     11|\n",
            "|              Tshirt|        19|     11|\n",
            "|                Coke|        19|      6|\n",
            "|            Postcard|        20|      7|\n",
            "|              Tshirt|        20|      5|\n",
            "|       Hot chocolate|        21|      2|\n",
            "|         Vegan Feast|        21|      1|\n",
            "|         Vegan Feast|        22|      5|\n",
            "|       Mineral water|        22|      1|\n",
            "+--------------------+----------+-------+\n",
            "\n"
          ]
        }
      ],
      "source": [
        "final = final.select(col(\"item\"),\"hour(time)\",\"QtySold\").where(col(\"rank2\") <= 2)\n",
        "final = final.show(60)"
      ]
    },
    {
      "cell_type": "code",
      "execution_count": 39,
      "metadata": {
        "id": "8r7I_0nBjXvP"
      },
      "outputs": [],
      "source": [
        "##Bottom two items every hour\n",
        "from pyspark.sql.functions import row_number\n",
        "from pyspark.sql import functions as F, Window\n",
        "\n",
        "temp = Window.partitionBy(\"hour(Time)\")\n",
        "temp = temp.orderBy(\"QtySold\")\n",
        "data2=data1.withColumn(\"rank1\",rank().over(temp)).withColumn(\"rank2\",F.row_number().over(temp)).where(col(\"rank1\")<=2)"
      ]
    },
    {
      "cell_type": "code",
      "execution_count": 40,
      "metadata": {
        "colab": {
          "base_uri": "https://localhost:8080/"
        },
        "id": "tlxI7cAnjwMr",
        "outputId": "bcf34677-bb07-49bd-b4ea-c748f3c7c08c"
      },
      "outputs": [
        {
          "name": "stdout",
          "output_type": "stream",
          "text": [
            "+--------------------+----------+-------+\n",
            "|                item|hour(time)|QtySold|\n",
            "+--------------------+----------+-------+\n",
            "|            Art Tray|         9|      1|\n",
            "|    My-5 Fruit Shoot|         9|      1|\n",
            "|         Vegan Feast|        10|      1|\n",
            "|    Valentine's card|        10|      1|\n",
            "|        Gift voucher|        11|      1|\n",
            "|Afternoon with th...|        11|      1|\n",
            "|   Lemon and coconut|        12|      1|\n",
            "|        Kids biscuit|        12|      1|\n",
            "|              Crepes|        13|      1|\n",
            "|       Bread Pudding|        13|      1|\n",
            "|    Christmas common|        14|      1|\n",
            "|Raspberry shortbr...|        14|      1|\n",
            "|   Hearty & Seasonal|        15|      1|\n",
            "|Cherry me Dried f...|        15|      1|\n",
            "|   Lemon and coconut|        16|      1|\n",
            "|Afternoon with th...|        16|      1|\n",
            "|    Coffee granules |        17|      1|\n",
            "|Afternoon with th...|        17|      1|\n",
            "|            Focaccia|        18|      1|\n",
            "|           Empanadas|        18|      1|\n",
            "|               Juice|        19|      1|\n",
            "|            Truffles|        19|      1|\n",
            "|               Fudge|        20|      1|\n",
            "|           Nomad bag|        20|      1|\n",
            "|         Vegan Feast|        21|      1|\n",
            "|       Hot chocolate|        21|      2|\n",
            "|       Mineral water|        22|      1|\n",
            "|        Scandinavian|        22|      1|\n",
            "+--------------------+----------+-------+\n",
            "\n"
          ]
        }
      ],
      "source": [
        "final_end = data2.select(col(\"item\"),\"hour(time)\",\"QtySold\").where(col(\"rank2\") <= 2)\n",
        "final_end = final_end.show(60)"
      ]
    },
    {
      "cell_type": "code",
      "execution_count": 40,
      "metadata": {
        "id": "8_3PLnH-j3AP"
      },
      "outputs": [],
      "source": []
    }
  ],
  "metadata": {
    "colab": {
      "collapsed_sections": [],
      "provenance": []
    },
    "kernelspec": {
      "display_name": "Python 3.9.6 64-bit",
      "language": "python",
      "name": "python3"
    },
    "language_info": {
      "name": "python",
      "version": "3.9.6"
    },
    "vscode": {
      "interpreter": {
        "hash": "cfb7935b20b1350c43bf64077ed6a04b20dae5a2fec5d0927cb7fd3126576106"
      }
    }
  },
  "nbformat": 4,
  "nbformat_minor": 0
}
